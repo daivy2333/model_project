{
 "cells": [
  {
   "cell_type": "code",
   "execution_count": 2,
   "metadata": {},
   "outputs": [],
   "source": [
    "import torch\n",
    "import torchvision\n",
    "import torchvision.transforms as transforms"
   ]
  },
  {
   "cell_type": "code",
   "execution_count": 3,
   "metadata": {},
   "outputs": [],
   "source": [
    "transform = transforms.Compose([\n",
    "    transforms.RandomHorizontalFlip(),    # 随机水平翻转\n",
    "    transforms.RandomRotation(15),        # 随机旋转±15度\n",
    "    transforms.ToTensor(),\n",
    "    transforms.Normalize((0.5, 0.5, 0.5), (0.5, 0.5, 0.5))  # 三通道归一化\n",
    "])"
   ]
  },
  {
   "cell_type": "code",
   "execution_count": 4,
   "metadata": {},
   "outputs": [
    {
     "name": "stdout",
     "output_type": "stream",
     "text": [
      "Files already downloaded and verified\n",
      "Files already downloaded and verified\n"
     ]
    }
   ],
   "source": [
    "# 加载数据集\n",
    "trainset = torchvision.datasets.CIFAR10(\n",
    "    root='./data', train=True, download=True, transform=transform)\n",
    "trainloader = torch.utils.data.DataLoader(\n",
    "    trainset, batch_size=128, shuffle=True, num_workers=2)\n",
    "\n",
    "testset = torchvision.datasets.CIFAR10(\n",
    "    root='./data', train=False, download=True, transform=transform)\n",
    "testloader = torch.utils.data.DataLoader(\n",
    "    testset, batch_size=128, shuffle=False, num_workers=2)\n",
    "\n",
    "classes = ('plane', 'car', 'bird', 'cat', 'deer',\n",
    "           'dog', 'frog', 'horse', 'ship', 'truck')"
   ]
  },
  {
   "cell_type": "code",
   "execution_count": 5,
   "metadata": {},
   "outputs": [],
   "source": [
    "import torch.nn as nn\n",
    "import torch.nn.functional as F\n",
    "\n",
    "class CIFAR10Net(nn.Module):\n",
    "    def __init__(self):\n",
    "        super().__init__()\n",
    "        self.conv1 = nn.Conv2d(3, 32, 3, padding=1)  # 输入3通道，输出32通道\n",
    "        self.conv2 = nn.Conv2d(32, 64, 3, padding=1)\n",
    "        self.pool = nn.MaxPool2d(2, 2)              # 2x2最大池化\n",
    "        self.fc1 = nn.Linear(64 * 8 * 8, 512)       # 全连接层计算：64*(32/2/2)^2\n",
    "        self.fc2 = nn.Linear(512, 10)\n",
    "        self.dropout = nn.Dropout(0.25)             # 防止过拟合\n",
    "\n",
    "    def forward(self, x):\n",
    "        x = F.relu(self.conv1(x))   # 32x32x32\n",
    "        x = self.pool(x)            # 32x16x16\n",
    "        x = F.relu(self.conv2(x))   # 64x16x16\n",
    "        x = self.pool(x)            # 64x8x8\n",
    "        x = torch.flatten(x, 1)     # 展平为64*8*8=4096维\n",
    "        x = self.dropout(x)\n",
    "        x = F.relu(self.fc1(x))     # 512维\n",
    "        x = self.fc2(x)             # 10维输出\n",
    "        return x\n",
    "\n",
    "model = CIFAR10Net()"
   ]
  },
  {
   "cell_type": "code",
   "execution_count": 6,
   "metadata": {},
   "outputs": [],
   "source": [
    "import torch.optim as optim\n",
    "\n",
    "device = torch.device(\"cuda:0\" if torch.cuda.is_available() else \"cpu\")\n",
    "model = model.to(device)\n",
    "\n",
    "criterion = nn.CrossEntropyLoss()\n",
    "optimizer = optim.AdamW(model.parameters(), lr=0.001, weight_decay=1e-4)\n",
    "scheduler = optim.lr_scheduler.StepLR(optimizer, step_size=10, gamma=0.1)"
   ]
  },
  {
   "cell_type": "code",
   "execution_count": 7,
   "metadata": {},
   "outputs": [
    {
     "name": "stdout",
     "output_type": "stream",
     "text": [
      "Epoch 1 Loss: 1.426\n",
      "Epoch 2 Loss: 1.117\n",
      "Epoch 3 Loss: 0.987\n",
      "Epoch 4 Loss: 0.907\n",
      "Epoch 5 Loss: 0.839\n",
      "Epoch 6 Loss: 0.787\n",
      "Epoch 7 Loss: 0.737\n",
      "Epoch 8 Loss: 0.703\n",
      "Epoch 9 Loss: 0.660\n",
      "Epoch 10 Loss: 0.628\n",
      "Epoch 11 Loss: 0.538\n",
      "Epoch 12 Loss: 0.518\n",
      "Epoch 13 Loss: 0.510\n",
      "Epoch 14 Loss: 0.498\n",
      "Epoch 15 Loss: 0.493\n",
      "Epoch 16 Loss: 0.483\n",
      "Epoch 17 Loss: 0.480\n",
      "Epoch 18 Loss: 0.470\n",
      "Epoch 19 Loss: 0.465\n",
      "Epoch 20 Loss: 0.462\n",
      "Epoch 21 Loss: 0.454\n",
      "Epoch 22 Loss: 0.450\n",
      "Epoch 23 Loss: 0.449\n",
      "Epoch 24 Loss: 0.450\n",
      "Epoch 25 Loss: 0.446\n"
     ]
    }
   ],
   "source": [
    "for epoch in range(25):\n",
    "    running_loss = 0.0\n",
    "    model.train()\n",
    "    \n",
    "    for i, data in enumerate(trainloader, 0):\n",
    "        inputs, labels = data[0].to(device), data[1].to(device)\n",
    "        \n",
    "        optimizer.zero_grad()\n",
    "        outputs = model(inputs)\n",
    "        loss = criterion(outputs, labels)\n",
    "        loss.backward()\n",
    "        optimizer.step()\n",
    "        \n",
    "        running_loss += loss.item()\n",
    "        \n",
    "    scheduler.step()\n",
    "    print(f'Epoch {epoch+1} Loss: {running_loss/len(trainloader):.3f}')"
   ]
  },
  {
   "cell_type": "code",
   "execution_count": 8,
   "metadata": {},
   "outputs": [
    {
     "name": "stdout",
     "output_type": "stream",
     "text": [
      "Accuracy: 76.66%\n"
     ]
    }
   ],
   "source": [
    "correct = 0\n",
    "total = 0\n",
    "model.eval()\n",
    "\n",
    "with torch.no_grad():\n",
    "    for data in testloader:\n",
    "        images, labels = data[0].to(device), data[1].to(device)\n",
    "        outputs = model(images)\n",
    "        _, predicted = torch.max(outputs.data, 1)\n",
    "        total += labels.size(0)\n",
    "        correct += (predicted == labels).sum().item()\n",
    "\n",
    "print(f'Accuracy: {100 * correct / total:.2f}%')"
   ]
  }
 ],
 "metadata": {
  "kernelspec": {
   "display_name": "Python (pytorch)",
   "language": "python",
   "name": "pytorch"
  },
  "language_info": {
   "codemirror_mode": {
    "name": "ipython",
    "version": 3
   },
   "file_extension": ".py",
   "mimetype": "text/x-python",
   "name": "python",
   "nbconvert_exporter": "python",
   "pygments_lexer": "ipython3",
   "version": "3.11.9"
  }
 },
 "nbformat": 4,
 "nbformat_minor": 2
}
