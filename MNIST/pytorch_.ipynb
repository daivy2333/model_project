{
 "cells": [
  {
   "cell_type": "code",
   "execution_count": 19,
   "metadata": {},
   "outputs": [],
   "source": [
    "import torch\n",
    "import torch.nn as nn\n",
    "import torch.optim as optim\n",
    "from torchvision import datasets, transforms\n",
    "from torch.utils.data import DataLoader\n",
    "import matplotlib.pyplot as plt"
   ]
  },
  {
   "cell_type": "markdown",
   "metadata": {},
   "source": [
    "数据预处理"
   ]
  },
  {
   "cell_type": "code",
   "execution_count": 2,
   "metadata": {},
   "outputs": [],
   "source": [
    "from  torchvision import transforms, datasets\n",
    "\n",
    "\n",
    "transform= transforms.Compose(\n",
    "    [transforms.ToTensor(),\n",
    "     transforms.Normalize((0.1307,),(0.3081,))])"
   ]
  },
  {
   "cell_type": "markdown",
   "metadata": {},
   "source": [
    "下载,加载数据集"
   ]
  },
  {
   "cell_type": "code",
   "execution_count": 3,
   "metadata": {},
   "outputs": [
    {
     "name": "stdout",
     "output_type": "stream",
     "text": [
      "Downloading http://yann.lecun.com/exdb/mnist/train-images-idx3-ubyte.gz\n",
      "Failed to download (trying next):\n",
      "HTTP Error 404: Not Found\n",
      "\n",
      "Downloading https://ossci-datasets.s3.amazonaws.com/mnist/train-images-idx3-ubyte.gz\n",
      "Downloading https://ossci-datasets.s3.amazonaws.com/mnist/train-images-idx3-ubyte.gz to ./data\\MNIST\\raw\\train-images-idx3-ubyte.gz\n"
     ]
    },
    {
     "name": "stderr",
     "output_type": "stream",
     "text": [
      "100%|██████████| 9912422/9912422 [00:33<00:00, 292915.24it/s] \n"
     ]
    },
    {
     "name": "stdout",
     "output_type": "stream",
     "text": [
      "Extracting ./data\\MNIST\\raw\\train-images-idx3-ubyte.gz to ./data\\MNIST\\raw\n",
      "\n",
      "Downloading http://yann.lecun.com/exdb/mnist/train-labels-idx1-ubyte.gz\n",
      "Failed to download (trying next):\n",
      "HTTP Error 404: Not Found\n",
      "\n",
      "Downloading https://ossci-datasets.s3.amazonaws.com/mnist/train-labels-idx1-ubyte.gz\n",
      "Downloading https://ossci-datasets.s3.amazonaws.com/mnist/train-labels-idx1-ubyte.gz to ./data\\MNIST\\raw\\train-labels-idx1-ubyte.gz\n"
     ]
    },
    {
     "name": "stderr",
     "output_type": "stream",
     "text": [
      "100%|██████████| 28881/28881 [00:00<00:00, 32635.97it/s]\n"
     ]
    },
    {
     "name": "stdout",
     "output_type": "stream",
     "text": [
      "Extracting ./data\\MNIST\\raw\\train-labels-idx1-ubyte.gz to ./data\\MNIST\\raw\n",
      "\n",
      "Downloading http://yann.lecun.com/exdb/mnist/t10k-images-idx3-ubyte.gz\n",
      "Failed to download (trying next):\n",
      "HTTP Error 404: Not Found\n",
      "\n",
      "Downloading https://ossci-datasets.s3.amazonaws.com/mnist/t10k-images-idx3-ubyte.gz\n",
      "Downloading https://ossci-datasets.s3.amazonaws.com/mnist/t10k-images-idx3-ubyte.gz to ./data\\MNIST\\raw\\t10k-images-idx3-ubyte.gz\n"
     ]
    },
    {
     "name": "stderr",
     "output_type": "stream",
     "text": [
      "100%|██████████| 1648877/1648877 [00:21<00:00, 77282.73it/s] \n"
     ]
    },
    {
     "name": "stdout",
     "output_type": "stream",
     "text": [
      "Extracting ./data\\MNIST\\raw\\t10k-images-idx3-ubyte.gz to ./data\\MNIST\\raw\n",
      "\n",
      "Downloading http://yann.lecun.com/exdb/mnist/t10k-labels-idx1-ubyte.gz\n",
      "Failed to download (trying next):\n",
      "HTTP Error 404: Not Found\n",
      "\n",
      "Downloading https://ossci-datasets.s3.amazonaws.com/mnist/t10k-labels-idx1-ubyte.gz\n",
      "Downloading https://ossci-datasets.s3.amazonaws.com/mnist/t10k-labels-idx1-ubyte.gz to ./data\\MNIST\\raw\\t10k-labels-idx1-ubyte.gz\n"
     ]
    },
    {
     "name": "stderr",
     "output_type": "stream",
     "text": [
      "100%|██████████| 4542/4542 [00:00<00:00, 15096.81it/s]"
     ]
    },
    {
     "name": "stdout",
     "output_type": "stream",
     "text": [
      "Extracting ./data\\MNIST\\raw\\t10k-labels-idx1-ubyte.gz to ./data\\MNIST\\raw\n",
      "\n"
     ]
    },
    {
     "name": "stderr",
     "output_type": "stream",
     "text": [
      "\n"
     ]
    }
   ],
   "source": [
    "import torch\n",
    "\n",
    "train_dataset= datasets.MNIST(root='./data', \n",
    "                              train=True, \n",
    "                              download=True, \n",
    "                              transform=transform)\n",
    "test_dataset= datasets.MNIST(root='./data',\n",
    "                             train=False,\n",
    "                             download=True,\n",
    "                             transform=transform)\n",
    "\n",
    "train_loader= torch.utils.data.DataLoader(dataset=train_dataset,\n",
    "                                          batch_size= 64,\n",
    "                                          shuffle=True)\n",
    "test_loader= torch.utils.data.DataLoader(dataset=test_dataset,\n",
    "                                         batch_size= 1000,\n",
    "                                         shuffle=False)"
   ]
  },
  {
   "cell_type": "code",
   "execution_count": 20,
   "metadata": {},
   "outputs": [],
   "source": [
    "# -------------------- 2. 定义神经网络模型 --------------------\n",
    "class MNIST_CNN(nn.Module):\n",
    "    def __init__(self):\n",
    "        super().__init__()\n",
    "        self.conv1 = nn.Conv2d(1, 32, kernel_size=3, padding=1)  # 输入通道1，输出32\n",
    "        self.conv2 = nn.Conv2d(32, 64, kernel_size=3, padding=1)\n",
    "        self.pool = nn.MaxPool2d(2, 2)\n",
    "        self.fc1 = nn.Linear(64*7*7, 128)  # 经过两次池化后尺寸：28→14→7\n",
    "        self.fc2 = nn.Linear(128, 10)\n",
    "        self.dropout = nn.Dropout(0.5)\n",
    "\n",
    "    def forward(self, x):\n",
    "        x = torch.relu(self.conv1(x))    # [B,32,28,28]\n",
    "        x = self.pool(x)                 # [B,32,14,14]\n",
    "        x = torch.relu(self.conv2(x))    # [B,64,14,14]\n",
    "        x = self.pool(x)                 # [B,64,7,7]\n",
    "        x = x.view(-1, 64*7*7)           # 展平\n",
    "        x = self.dropout(x)\n",
    "        x = torch.relu(self.fc1(x))\n",
    "        x = self.fc2(x)\n",
    "        return x\n",
    "\n",
    "model = MNIST_CNN()\n",
    "\n",
    "# -------------------- 3. 训练配置 --------------------\n",
    "criterion = nn.CrossEntropyLoss()\n",
    "optimizer = optim.Adam(model.parameters(), lr=0.001)\n",
    "device = torch.device(\"cuda\" if torch.cuda.is_available() else \"cpu\")\n",
    "model.to(device)\n",
    "\n",
    "# -------------------- 4. 训练循环 --------------------\n",
    "def train(epochs=10):\n",
    "    model.train()\n",
    "    for epoch in range(epochs):\n",
    "        running_loss = 0.0\n",
    "        correct = 0\n",
    "        total = 0\n",
    "        \n",
    "        for images, labels in train_loader:\n",
    "            images, labels = images.to(device), labels.to(device)\n",
    "            \n",
    "            optimizer.zero_grad()\n",
    "            outputs = model(images)\n",
    "            loss = criterion(outputs, labels)\n",
    "            loss.backward()\n",
    "            optimizer.step()\n",
    "            \n",
    "            running_loss += loss.item()\n",
    "            _, predicted = torch.max(outputs.data, 1)\n",
    "            total += labels.size(0)\n",
    "            correct += (predicted == labels).sum().item()\n",
    "        \n",
    "        # 打印训练进度\n",
    "        print(f\"Epoch [{epoch+1}/{epochs}] | Loss: {running_loss/len(train_loader):.4f} | \"\n",
    "              f\"Accuracy: {100*correct/total:.2f}%\")"
   ]
  },
  {
   "cell_type": "code",
   "execution_count": 21,
   "metadata": {},
   "outputs": [
    {
     "name": "stdout",
     "output_type": "stream",
     "text": [
      "Epoch [1/10] | Loss: 0.1607 | Accuracy: 94.93%\n",
      "Epoch [2/10] | Loss: 0.0640 | Accuracy: 98.01%\n",
      "Epoch [3/10] | Loss: 0.0476 | Accuracy: 98.44%\n",
      "Epoch [4/10] | Loss: 0.0376 | Accuracy: 98.80%\n",
      "Epoch [5/10] | Loss: 0.0337 | Accuracy: 98.86%\n",
      "Epoch [6/10] | Loss: 0.0281 | Accuracy: 99.09%\n",
      "Epoch [7/10] | Loss: 0.0271 | Accuracy: 99.11%\n",
      "Epoch [8/10] | Loss: 0.0219 | Accuracy: 99.30%\n",
      "Epoch [9/10] | Loss: 0.0210 | Accuracy: 99.34%\n",
      "Epoch [10/10] | Loss: 0.0193 | Accuracy: 99.32%\n"
     ]
    }
   ],
   "source": [
    "train(epochs=10)"
   ]
  },
  {
   "cell_type": "markdown",
   "metadata": {},
   "source": [
    "模型评估"
   ]
  },
  {
   "cell_type": "code",
   "execution_count": 22,
   "metadata": {},
   "outputs": [
    {
     "name": "stdout",
     "output_type": "stream",
     "text": [
      "Test Accuracy: 99.29%\n"
     ]
    }
   ],
   "source": [
    "def evaluate():\n",
    "    # 将模型设置为评估模式，这会影响某些层（如Dropout和BatchNorm）的行为\n",
    "    model.eval()\n",
    "    # 初始化正确预测的计数器\n",
    "    correct = 0\n",
    "    # 初始化测试样本的总数计数器\n",
    "    total = 0\n",
    "    # 使用torch.no_grad()上下文管理器，以避免在评估过程中计算梯度，节省内存和计算资源\n",
    "    with torch.no_grad():\n",
    "        # 遍历测试数据集\n",
    "        for images, labels in test_loader:\n",
    "            # 将图像和标签移动到指定的设备（如GPU）\n",
    "            images, labels = images.to(device), labels.to(device)\n",
    "            # 通过模型获取输出\n",
    "            outputs = model(images)\n",
    "            # 使用torch.max获取每个样本的预测类别（返回最大值的索引）\n",
    "            _, predicted = torch.max(outputs.data, 1)\n",
    "            # 更新测试样本的总数\n",
    "            total += labels.size(0)\n",
    "            # 计算预测正确的样本数，并转换为Python标量\n",
    "            correct += (predicted == labels).sum().item()\n",
    "\n",
    "    # 打印测试集的准确率，格式化为两位小数\n",
    "    print(f\"Test Accuracy: {100*correct/total:.2f}%\")\n",
    "\n",
    "evaluate()"
   ]
  },
  {
   "cell_type": "code",
   "execution_count": 23,
   "metadata": {},
   "outputs": [],
   "source": [
    "def show_predictions():\n",
    "    # 获取测试数据加载器的迭代器\n",
    "    data_iter = iter(test_loader)\n",
    "    # 从迭代器中获取下一批数据，包括图像和标签\n",
    "    images, labels = next(data_iter)\n",
    "    # 将图像和标签移动到指定的设备（如GPU）\n",
    "    images, labels = images.to(device), labels.to(device)\n",
    "    \n",
    "    # 使用模型对图像进行预测\n",
    "    outputs = model(images)\n",
    "    # 获取预测结果，torch.max返回每个样本的最大值及其索引\n",
    "    # _, predicted 表示我们只关心最大值的索引（即预测的类别）\n",
    "    _, predicted = torch.max(outputs, 1)\n",
    "    \n",
    "    # 可视化前6个样本\n",
    "    fig = plt.figure(figsize=(10,4))\n",
    "    for idx in range(6):\n",
    "        ax = fig.add_subplot(2, 3, idx+1)\n",
    "        img = images[idx].cpu().numpy().squeeze()\n",
    "        ax.imshow(img, cmap='gray')\n",
    "        ax.set_title(f\"Pred: {predicted[idx].item()}, True: {labels[idx].item()}\")\n",
    "        ax.axis('off')\n",
    "    plt.show()"
   ]
  },
  {
   "cell_type": "code",
   "execution_count": 24,
   "metadata": {},
   "outputs": [
    {
     "data": {
      "image/png": "[encoded data removed]",
      "text/plain": [
       "<Figure size 1000x400 with 6 Axes>"
      ]
     },
     "metadata": {},
     "output_type": "display_data"
    }
   ],
   "source": [
    "show_predictions()"
   ]
  }
 ],
 "metadata": {
  "kernelspec": {
   "display_name": "Python (pytorch)",
   "language": "python",
   "name": "pytorch"
  },
  "language_info": {
   "codemirror_mode": {
    "name": "ipython",
    "version": 3
   },
   "file_extension": ".py",
   "mimetype": "text/x-python",
   "name": "python",
   "nbconvert_exporter": "python",
   "pygments_lexer": "ipython3",
   "version": "3.11.9"
  }
 },
 "nbformat": 4,
 "nbformat_minor": 2
}
